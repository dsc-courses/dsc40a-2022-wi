{
 "cells": [
  {
   "cell_type": "markdown",
   "id": "beb6979f",
   "metadata": {},
   "source": [
    "<h1><center>HW4 Problems 4b, 4c, 5</center></h1>"
   ]
  },
  {
   "cell_type": "markdown",
   "id": "973caa48",
   "metadata": {},
   "source": [
    "This notebook will guide you through problems 4 and 5 of HW4. Start out by reading the problem descriptions in the main HW assignment before you work through this notebook.\n",
    "\n",
    "We have three imports for this assignment. Please do not import any other packages."
   ]
  },
  {
   "cell_type": "code",
   "execution_count": null,
   "id": "da960cf7",
   "metadata": {},
   "outputs": [],
   "source": [
    "import numpy as np\n",
    "import pandas as pd\n",
    "from itertools import combinations"
   ]
  },
  {
   "cell_type": "markdown",
   "id": "bbf6d3c7",
   "metadata": {},
   "source": [
    "<h2> Problem 4: Least Absolute Deviation Regression for Multiple Variables<h2>"
   ]
  },
  {
   "cell_type": "markdown",
   "id": "e6bde682",
   "metadata": {},
   "source": [
    "<h3> Part B </h3>\n",
    "\n",
    "Implement the normal equations from lecture in Python. In the function below, the inputs $X$ and $y$ represent the design matrix and the observation vector of the data, respectively. Make sure to return a tuple $(a, b, c)$ assuming the regression plane we are calculating is of the form $z = ax + by + c$.\n",
    "\n",
    "**Hint**: Numpy provides some handy functions for linear algebra. Check out the documentation for `numpy.linalg` [here](https://numpy.org/doc/stable/reference/routines.linalg.html). Our solution to this part used just one line of code!"
   ]
  },
  {
   "cell_type": "code",
   "execution_count": null,
   "id": "acba88a2",
   "metadata": {},
   "outputs": [],
   "source": [
    "def least_squares_regression(X, y):\n",
    "    \"\"\" Find the least squares regression plane using the normal equations \"\"\"\n",
    "    return ..."
   ]
  },
  {
   "cell_type": "markdown",
   "id": "70b7805e",
   "metadata": {},
   "source": [
    "Now that you have implemented least squares regression, let's calculate the values of $a$, $b$, and $c$ that define the least squares regression plane for the data."
   ]
  },
  {
   "cell_type": "code",
   "execution_count": null,
   "id": "45f7d988",
   "metadata": {},
   "outputs": [],
   "source": [
    "table = pd.read_csv('hw4data.csv') # import the data\n",
    "data = table.values.tolist() # put the data in a form that is easier to work with\n",
    "\n",
    "design_matrix = np.array([[x, y, 1] for x, y, z in data]) # create design matrix\n",
    "observation_vector = np.array([z for x, y, z in data]) # create observation vector\n",
    "\n",
    "print(\"The (a, b, c) triplet for least squares regression is:\", least_squares_regression(design_matrix, observation_vector))"
   ]
  },
  {
   "cell_type": "markdown",
   "id": "33cdb4eb",
   "metadata": {},
   "source": [
    "<h3> Part C </h3>\n",
    "\n",
    "For this part, you need to implement a function to generate all planes from all triplets of data points. You will want to adapt your work from the example in part (a) into a function that works for any given triplet of distinct points in $\\mathbb{R}^3$. The input to the function `generate_all_planes` is a list of tuples corresponding to unique triplets of points and the output should be a list of tuples of plane coefficients $(a, b, c)$. The $i$th $(a, b, c)$ in your output list should define a plane that contains three points in the $i$th element of the input list `triplets`.\n",
    "\n",
    "**Hint 1**: Make sure you've completed and fully understood the math in part (a) before attempting this question. This question is essentially implementing that process in code.\n",
    "\n",
    "**Hint 2**: The `generate_all_planes` function below should be the three-dimensional version of the `generate_all_lines` function from Homework 3. Use that function as a starting point for your work below.\n",
    "\n",
    "**Hint 3**: Our solution used the functions `np.cross` and `np.dot` to calculate cross products and dot products."
   ]
  },
  {
   "cell_type": "code",
   "execution_count": null,
   "id": "fc7bf598",
   "metadata": {},
   "outputs": [],
   "source": [
    "def generate_all_planes(triplets):\n",
    "    '''Returns an (a, b, c) triplet defining a plane for every triplet of points in the input list.'''\n",
    "    return []"
   ]
  },
  {
   "cell_type": "markdown",
   "id": "4eb61889",
   "metadata": {},
   "source": [
    "The following functions are being provided for you and they will generate all possible unique triplets of points, compute the mean absolute error, and find the best plane. Note the similarities of these functions to the functions you had to write in Homework 3."
   ]
  },
  {
   "cell_type": "code",
   "execution_count": null,
   "id": "25d291d1",
   "metadata": {},
   "outputs": [],
   "source": [
    "def generate_all_combinations(data, k=2):\n",
    "    \"\"\" Generate a list of all possible combinations of k points from the data. \"\"\"\n",
    "    return list(combinations(data, k))"
   ]
  },
  {
   "cell_type": "code",
   "execution_count": null,
   "id": "7bcab28f",
   "metadata": {},
   "outputs": [],
   "source": [
    "def plane_mae(a, b, c, data):\n",
    "    \"\"\"Computes the mean absolute error for a given plane.\"\"\"\n",
    "    loss = 0\n",
    "    n = len(data)\n",
    "    for i in range(n):\n",
    "        x_i, y_i, z_i = data[i]\n",
    "        loss += abs(z_i - (a * x_i + b * y_i + c))\n",
    "    return loss / n"
   ]
  },
  {
   "cell_type": "code",
   "execution_count": null,
   "id": "16475df8",
   "metadata": {},
   "outputs": [],
   "source": [
    "def find_best_plane(planes, data):\n",
    "    \"\"\"Finds the best plane given a list of planes and the dataset.\"\"\"\n",
    "    lowest_mae = float(\"inf\")\n",
    "    best_plane = None\n",
    "\n",
    "    for plane in planes:\n",
    "        a, b, c = plane\n",
    "        mae = plane_mae(a, b, c, data)\n",
    "        if mae < lowest_mae:\n",
    "            lowest_mae = mae\n",
    "            best_plane = plane\n",
    "\n",
    "    return best_plane"
   ]
  },
  {
   "cell_type": "markdown",
   "id": "957b682f",
   "metadata": {},
   "source": [
    "Now that our procedure for generating the optimal LAD regression plane is implemented, let's calculate the values of $a$, $b$, and $c$ that define the LAD regression plane for the data."
   ]
  },
  {
   "cell_type": "code",
   "execution_count": null,
   "id": "190a5869",
   "metadata": {},
   "outputs": [],
   "source": [
    "triplets = generate_all_combinations(data, 3) # generate all unique triplets of data points from data\n",
    "planes = generate_all_planes(triplets) # generate all (a, b, c) triplets corresponding to each unique triplet of data points \n",
    "\n",
    "print(\"The (a, b, c) triplet for LAD regression is:\", find_best_plane(planes, data))"
   ]
  },
  {
   "cell_type": "markdown",
   "id": "2e20e604",
   "metadata": {},
   "source": [
    "<h2> Problem 5: Prediction Competition<h2>"
   ]
  },
  {
   "cell_type": "markdown",
   "id": "51a768fc",
   "metadata": {},
   "source": [
    "Your task is to modify the `predict` function given below, according to the rules given in the main homework assignment."
   ]
  },
  {
   "cell_type": "code",
   "execution_count": null,
   "id": "2b8a3d8a",
   "metadata": {},
   "outputs": [],
   "source": [
    "def predict(row):\n",
    "    '''Function that returns the predicted rank for a given row of the games dataframe'''\n",
    "    return 0"
   ]
  },
  {
   "cell_type": "markdown",
   "id": "a3dae1d3",
   "metadata": {},
   "source": [
    "Don't modify the `calculate_MSE` function given below. This tests how well your predictions perform on a given dataset."
   ]
  },
  {
   "cell_type": "code",
   "execution_count": null,
   "id": "c149a346",
   "metadata": {},
   "outputs": [],
   "source": [
    "def calculate_MSE(df):\n",
    "    '''Compute MSE of the predictions corresponding to each row of the given dataframe'''\n",
    "    n = df.shape[0]\n",
    "    total_squared_error = 0\n",
    "    for i in np.arange(n):\n",
    "        predicted = predict(df.iloc[i])\n",
    "        actual = df.iloc[i].get('rank')\n",
    "        squared_error = (actual - predicted)**2\n",
    "        total_squared_error += squared_error\n",
    "    return total_squared_error/n"
   ]
  },
  {
   "cell_type": "markdown",
   "id": "25718c10",
   "metadata": {},
   "source": [
    "You can test out your predictions on the training dataset provided. We'll also test your predictions on a hidden test dataset."
   ]
  },
  {
   "cell_type": "code",
   "execution_count": null,
   "id": "40b6f900",
   "metadata": {},
   "outputs": [],
   "source": [
    "games = pd.read_csv('games-train.csv')\n",
    "print(calculate_MSE(games))"
   ]
  },
  {
   "cell_type": "markdown",
   "id": "a3b10d48",
   "metadata": {},
   "source": [
    "<h3> To Submit </h3>\n",
    "\n",
    "In the top left corner, in the File menu, select Download as Python (.py). \n",
    "\n",
    "You must save your file as `hw4code.py` for the Gradescope autograder to run. Then, upload this file to the assignment called Homework 4 Code on Gradescope. Problems 4b, 4c, and 5 will be autograded, so you don't need to turn in any written explanation for these questions."
   ]
  },
  {
   "cell_type": "code",
   "execution_count": null,
   "id": "673b4c24",
   "metadata": {},
   "outputs": [],
   "source": []
  }
 ],
 "metadata": {
  "kernelspec": {
   "display_name": "Python 3 (ipykernel)",
   "language": "python",
   "name": "python3"
  },
  "language_info": {
   "codemirror_mode": {
    "name": "ipython",
    "version": 3
   },
   "file_extension": ".py",
   "mimetype": "text/x-python",
   "name": "python",
   "nbconvert_exporter": "python",
   "pygments_lexer": "ipython3",
   "version": "3.9.7"
  }
 },
 "nbformat": 4,
 "nbformat_minor": 5
}
