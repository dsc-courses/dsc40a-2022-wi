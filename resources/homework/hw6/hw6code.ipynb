{
 "cells": [
  {
   "cell_type": "markdown",
   "metadata": {},
   "source": [
    "<h1><center>HW6 Problem 5c</center></h1>"
   ]
  },
  {
   "cell_type": "markdown",
   "metadata": {},
   "source": [
    "We have one import for this problem. Please do not import any other packages."
   ]
  },
  {
   "cell_type": "code",
   "execution_count": null,
   "metadata": {},
   "outputs": [],
   "source": [
    "import numpy as np"
   ]
  },
  {
   "cell_type": "markdown",
   "metadata": {},
   "source": [
    "Fill in the blanks (marked by ...) to complete the function `woven_words` below. This function should take as input two strings that have no letters in common and return an array containing all the different woven words that can be created from the two inputs. \n",
    "\n",
    "**Hint**: Use the result of part (b). This implementation is based on that formula, repeated here for your convenience:\n",
    "\n",
    "\\begin{align}\n",
    "&W(0, m) = 1 \\\\\n",
    "&W(n, 0) = 1 \\\\\n",
    "&W(n, m) = W(n-1, m) + W(n, m-1)~~~\\mathrm{for}~n>0~\\mathrm{and}~m>0.\n",
    "\\end{align}"
   ]
  },
  {
   "cell_type": "code",
   "execution_count": null,
   "metadata": {},
   "outputs": [],
   "source": [
    "def woven_words(w1, w2):\n",
    "    '''Given two words with no letters in common, return an array \n",
    "    of all woven words that can be created from the inputs.'''\n",
    "    if len(w1)==0:\n",
    "        return ...\n",
    "    if len(w2)==0:\n",
    "        return ...\n",
    "    result = np.array([])\n",
    "    for word in woven_words(..., ...):\n",
    "        result = np.append(result, w1[0]+word)\n",
    "    for word in woven_words(..., ...):\n",
    "        result = np.append(result, w2[0]+word)\n",
    "    return result"
   ]
  },
  {
   "cell_type": "markdown",
   "metadata": {},
   "source": [
    "Check that your function works as intended. Compare the output to your answer from part (a) to make sure you got all woven words."
   ]
  },
  {
   "cell_type": "code",
   "execution_count": null,
   "metadata": {},
   "outputs": [],
   "source": [
    "w1=\"go\"\n",
    "w2=\"cat\"\n",
    "\n",
    "woven_words(w1, w2)"
   ]
  },
  {
   "cell_type": "markdown",
   "metadata": {},
   "source": [
    "<h3> To Submit </h3>\n",
    "\n",
    "In the top left corner, in the File menu, select Download as Python (.py). \n",
    "\n",
    "You must save your file as `hw6code.py` for the Gradescope autograder to run. Then, upload this file to the assignment called Homework 6 Code on Gradescope. \n",
    "\n",
    "Don't forget to do part (d) of this problem, in the main assignment!"
   ]
  },
  {
   "cell_type": "code",
   "execution_count": null,
   "metadata": {},
   "outputs": [],
   "source": []
  }
 ],
 "metadata": {
  "kernelspec": {
   "display_name": "Python 3 (ipykernel)",
   "language": "python",
   "name": "python3"
  },
  "language_info": {
   "codemirror_mode": {
    "name": "ipython",
    "version": 3
   },
   "file_extension": ".py",
   "mimetype": "text/x-python",
   "name": "python",
   "nbconvert_exporter": "python",
   "pygments_lexer": "ipython3",
   "version": "3.9.7"
  }
 },
 "nbformat": 4,
 "nbformat_minor": 2
}
