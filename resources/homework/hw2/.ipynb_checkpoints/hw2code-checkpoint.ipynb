{
 "cells": [
  {
   "cell_type": "markdown",
   "metadata": {},
   "source": [
    "<h1><center>HW2 Problem 5c</center></h1>"
   ]
  },
  {
   "cell_type": "markdown",
   "metadata": {},
   "source": [
    "To start, we'll import `numpy` and `babypandas`. Please do not import any other packages."
   ]
  },
  {
   "cell_type": "code",
   "execution_count": null,
   "metadata": {},
   "outputs": [],
   "source": [
    "import numpy as np\n",
    "import babypandas as bpd"
   ]
  },
  {
   "cell_type": "markdown",
   "metadata": {},
   "source": [
    "You'll need to fill in the following two functions with your answers from part (b). Before you do this, we recommend reading through the rest of the code so you understand what these functions should do and how they will be used."
   ]
  },
  {
   "cell_type": "code",
   "execution_count": null,
   "metadata": {},
   "outputs": [],
   "source": [
    "def m_gradient_func(x_i, y_i, m, b, n):\n",
    "    '''Return the single term in the gradient of m corresponding to (x_i, y_i).'''\n",
    "    return ..."
   ]
  },
  {
   "cell_type": "code",
   "execution_count": null,
   "metadata": {},
   "outputs": [],
   "source": [
    "def b_gradient_func(x_i, y_i, m, b, n): \n",
    "    '''Return the single term in the gradient of b corresponding to (x_i, y_i).'''\n",
    "    return ..."
   ]
  },
  {
   "cell_type": "markdown",
   "metadata": {},
   "source": [
    "Now we will define some additional functions in order to be able to perform gradient descent. Make sure that you read through this code and understand what it is doing. Feel free to ask questions about the following code in office hours, but do not modify any code unless instructed."
   ]
  },
  {
   "cell_type": "code",
   "execution_count": null,
   "metadata": {},
   "outputs": [],
   "source": [
    "def gradient_descent_iteration(m, b, x_data, y_data, learningRate):\n",
    "    '''Perform one iteration of gradient descent on the given data.'''\n",
    "    m_gradient, b_gradient = 0, 0\n",
    "    n = len(x_data)\n",
    "    for i in range(n):\n",
    "        m_gradient += m_gradient_func(x_data[i], y_data[i], m, b, n)\n",
    "        b_gradient += b_gradient_func(x_data[i], y_data[i], m, b, n)\n",
    "    new_m = m - learningRate * m_gradient\n",
    "    new_b = b - learningRate * b_gradient\n",
    "    return new_m, new_b"
   ]
  },
  {
   "cell_type": "code",
   "execution_count": null,
   "metadata": {},
   "outputs": [],
   "source": [
    "def gradient_descent(x_data, y_data, m_initial, b_initial, learning_rate, max_iterations):\n",
    "    '''Perform gradient descent on the given data, using the given parameters.'''\n",
    "    m = m_initial\n",
    "    b = b_initial\n",
    "    num_iterations = 0\n",
    "    while num_iterations < max_iterations:\n",
    "        m, b = gradient_descent_iteration(m, b, x_data, y_data, learning_rate)\n",
    "        num_iterations += 1\n",
    "        if(num_iterations%1000==0):\n",
    "            print(\"After \", num_iterations, \" iterations, m =\", m, \"and b = \", b)\n",
    "    return m, b"
   ]
  },
  {
   "cell_type": "markdown",
   "metadata": {},
   "source": [
    "At this point, we are ready to use our gradient descent algorithm. We'll work with a dataset of 300 random recipes from [Epicurious](https://www.epicurious.com/). For each recipe, we have its title and nutritional information."
   ]
  },
  {
   "cell_type": "code",
   "execution_count": null,
   "metadata": {},
   "outputs": [],
   "source": [
    "recipes = bpd.read_csv('epicurious.csv')\n",
    "recipes"
   ]
  },
  {
   "cell_type": "markdown",
   "metadata": {},
   "source": [
    "We are interested in determining how the amount of `'fat'` varies with the number of `'calories'`. This means we'll use `'calories'`as our $x$ variable and `'fat'` as our $y$. We'll extract these as arrays."
   ]
  },
  {
   "cell_type": "code",
   "execution_count": null,
   "metadata": {},
   "outputs": [],
   "source": [
    "x_data = recipes.get('calories').values\n",
    "y_data = recipes.get('fat').values"
   ]
  },
  {
   "cell_type": "markdown",
   "metadata": {},
   "source": [
    "We've set the learning rate and initial predictions for you, as well as the number of iterations we want to do. Run the next cell to start your gradient descent algorithm. "
   ]
  },
  {
   "cell_type": "code",
   "execution_count": null,
   "metadata": {
    "scrolled": false
   },
   "outputs": [],
   "source": [
    "learning_rate = 0.0000004\n",
    "m_initial, b_initial = 0, 0\n",
    "max_iterations = 10000\n",
    "\n",
    "print(\"Performing linear regression with gradient descent...\")\n",
    "m, b = gradient_descent(x_data, y_data, m_initial, b_initial, learning_rate, max_iterations)\n",
    "print(\"Gradient descent completed.\")\n",
    "print(\"The slope is m =\", m)\n",
    "print(\"The y-intercept is b =\", b)"
   ]
  },
  {
   "cell_type": "markdown",
   "metadata": {},
   "source": [
    "Let's see how the regression line found by gradient descent looks. Run the next cell to see a plot of the data and the line found by gradient descent. Check that it looks reasonable."
   ]
  },
  {
   "cell_type": "code",
   "execution_count": null,
   "metadata": {
    "scrolled": true
   },
   "outputs": [],
   "source": [
    "recipes.plot(kind='scatter', x='calories', y='fat').plot(x_data, m * x_data + b);"
   ]
  },
  {
   "cell_type": "markdown",
   "metadata": {},
   "source": [
    "**To submit**: Scroll up to the cell whose output starts with `Performing linear regression with gradient descent...`. Take a screenshot of that output and a screenshot of the plot above. Submit both of these along with the rest of Homework 2, in the same document as the rest of your work. We will not be collecting or grading your code for this homework assignment."
   ]
  },
  {
   "cell_type": "code",
   "execution_count": null,
   "metadata": {},
   "outputs": [],
   "source": []
  }
 ],
 "metadata": {
  "kernelspec": {
   "display_name": "Python 3 (ipykernel)",
   "language": "python",
   "name": "python3"
  },
  "language_info": {
   "codemirror_mode": {
    "name": "ipython",
    "version": 3
   },
   "file_extension": ".py",
   "mimetype": "text/x-python",
   "name": "python",
   "nbconvert_exporter": "python",
   "pygments_lexer": "ipython3",
   "version": "3.9.7"
  }
 },
 "nbformat": 4,
 "nbformat_minor": 4
}
