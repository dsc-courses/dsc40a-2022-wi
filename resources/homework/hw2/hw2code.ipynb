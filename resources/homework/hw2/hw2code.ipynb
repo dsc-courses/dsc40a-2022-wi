{
 "cells": [
  {
   "cell_type": "markdown",
   "metadata": {},
   "source": [
    "<h1><center>HW2 Problem 5c</center></h1>"
   ]
  },
  {
   "cell_type": "markdown",
   "metadata": {},
   "source": [
    "To start, we'll import `numpy` and `babypandas`. Please do not import any other packages."
   ]
  },
  {
   "cell_type": "code",
   "execution_count": 1,
   "metadata": {},
   "outputs": [],
   "source": [
    "import numpy as np\n",
    "import babypandas as bpd"
   ]
  },
  {
   "cell_type": "markdown",
   "metadata": {},
   "source": [
    "You'll need to fill in the following two functions with your answers from part (b). Before you do this, we recommend reading through the rest of the code so you understand what these functions should do and how they will be used."
   ]
  },
  {
   "cell_type": "code",
   "execution_count": 2,
   "metadata": {},
   "outputs": [],
   "source": [
    "def m_gradient_func(x_i, y_i, m, b, n):\n",
    "    '''Return the single term in the gradient of m corresponding to (x_i, y_i).'''\n",
    "    return ..."
   ]
  },
  {
   "cell_type": "code",
   "execution_count": 3,
   "metadata": {},
   "outputs": [],
   "source": [
    "def b_gradient_func(x_i, y_i, m, b, n): \n",
    "    '''Return the single term in the gradient of b corresponding to (x_i, y_i).'''\n",
    "    return ..."
   ]
  },
  {
   "cell_type": "markdown",
   "metadata": {},
   "source": [
    "Now we will define some additional functions in order to be able to perform gradient descent. Make sure that you read through this code and understand what it is doing. Feel free to ask questions about the following code in office hours, but do not modify any code unless instructed."
   ]
  },
  {
   "cell_type": "code",
   "execution_count": 4,
   "metadata": {},
   "outputs": [],
   "source": [
    "def gradient_descent_iteration(m, b, x_data, y_data, learningRate):\n",
    "    '''Perform one iteration of gradient descent on the given data.'''\n",
    "    m_gradient, b_gradient = 0, 0\n",
    "    n = len(x_data)\n",
    "    for i in range(n):\n",
    "        m_gradient += m_gradient_func(x_data[i], y_data[i], m, b, n)\n",
    "        b_gradient += b_gradient_func(x_data[i], y_data[i], m, b, n)\n",
    "    new_m = m - learningRate * m_gradient\n",
    "    new_b = b - learningRate * b_gradient\n",
    "    return new_m, new_b"
   ]
  },
  {
   "cell_type": "code",
   "execution_count": 5,
   "metadata": {},
   "outputs": [],
   "source": [
    "def gradient_descent(x_data, y_data, m_initial, b_initial, learning_rate, max_iterations):\n",
    "    '''Perform gradient descent on the given data, using the given parameters.'''\n",
    "    m = m_initial\n",
    "    b = b_initial\n",
    "    num_iterations = 0\n",
    "    while num_iterations < max_iterations:\n",
    "        m, b = gradient_descent_iteration(m, b, x_data, y_data, learning_rate)\n",
    "        num_iterations += 1\n",
    "        if(num_iterations%1000==0):\n",
    "            print(\"After \", num_iterations, \" iterations, m =\", m, \"and b = \", b)\n",
    "    return m, b"
   ]
  },
  {
   "cell_type": "markdown",
   "metadata": {},
   "source": [
    "At this point, we are ready to use our gradient descent algorithm. We'll work with a dataset of 300 random recipes from [Epicurious](https://www.epicurious.com/). For each recipe, we have its title and nutritional information."
   ]
  },
  {
   "cell_type": "code",
   "execution_count": 6,
   "metadata": {},
   "outputs": [
    {
     "data": {
      "text/html": [
       "<div>\n",
       "<style scoped>\n",
       "    .dataframe tbody tr th:only-of-type {\n",
       "        vertical-align: middle;\n",
       "    }\n",
       "\n",
       "    .dataframe tbody tr th {\n",
       "        vertical-align: top;\n",
       "    }\n",
       "\n",
       "    .dataframe thead th {\n",
       "        text-align: right;\n",
       "    }\n",
       "</style>\n",
       "<table border=\"1\" class=\"dataframe\">\n",
       "  <thead>\n",
       "    <tr style=\"text-align: right;\">\n",
       "      <th></th>\n",
       "      <th>title</th>\n",
       "      <th>rating</th>\n",
       "      <th>calories</th>\n",
       "      <th>protein</th>\n",
       "      <th>fat</th>\n",
       "      <th>sodium</th>\n",
       "    </tr>\n",
       "  </thead>\n",
       "  <tbody>\n",
       "    <tr>\n",
       "      <th>0</th>\n",
       "      <td>Mushroom and Brown Rice Veggie Burger</td>\n",
       "      <td>4.375</td>\n",
       "      <td>859.0</td>\n",
       "      <td>35.0</td>\n",
       "      <td>30.0</td>\n",
       "      <td>1018.0</td>\n",
       "    </tr>\n",
       "    <tr>\n",
       "      <th>1</th>\n",
       "      <td>Beer-Marinated Steaks with Peppercorn Sauce</td>\n",
       "      <td>4.375</td>\n",
       "      <td>1016.0</td>\n",
       "      <td>70.0</td>\n",
       "      <td>67.0</td>\n",
       "      <td>678.0</td>\n",
       "    </tr>\n",
       "    <tr>\n",
       "      <th>2</th>\n",
       "      <td>Beef Pinwheels with Arugula Salad</td>\n",
       "      <td>4.375</td>\n",
       "      <td>546.0</td>\n",
       "      <td>53.0</td>\n",
       "      <td>35.0</td>\n",
       "      <td>1127.0</td>\n",
       "    </tr>\n",
       "    <tr>\n",
       "      <th>3</th>\n",
       "      <td>Poppy Seed Chocolate Torte</td>\n",
       "      <td>2.500</td>\n",
       "      <td>231.0</td>\n",
       "      <td>5.0</td>\n",
       "      <td>14.0</td>\n",
       "      <td>40.0</td>\n",
       "    </tr>\n",
       "    <tr>\n",
       "      <th>4</th>\n",
       "      <td>Melon with Green-Peppercorn Raspberry Sauce</td>\n",
       "      <td>2.500</td>\n",
       "      <td>265.0</td>\n",
       "      <td>4.0</td>\n",
       "      <td>4.0</td>\n",
       "      <td>91.0</td>\n",
       "    </tr>\n",
       "    <tr>\n",
       "      <th>...</th>\n",
       "      <td>...</td>\n",
       "      <td>...</td>\n",
       "      <td>...</td>\n",
       "      <td>...</td>\n",
       "      <td>...</td>\n",
       "      <td>...</td>\n",
       "    </tr>\n",
       "    <tr>\n",
       "      <th>295</th>\n",
       "      <td>Caramelized Potatoes</td>\n",
       "      <td>3.750</td>\n",
       "      <td>137.0</td>\n",
       "      <td>2.0</td>\n",
       "      <td>3.0</td>\n",
       "      <td>492.0</td>\n",
       "    </tr>\n",
       "    <tr>\n",
       "      <th>296</th>\n",
       "      <td>Haroseth</td>\n",
       "      <td>5.000</td>\n",
       "      <td>273.0</td>\n",
       "      <td>4.0</td>\n",
       "      <td>13.0</td>\n",
       "      <td>4.0</td>\n",
       "    </tr>\n",
       "    <tr>\n",
       "      <th>297</th>\n",
       "      <td>Caribbean-Style Black Bean and Rice Salad</td>\n",
       "      <td>3.750</td>\n",
       "      <td>323.0</td>\n",
       "      <td>7.0</td>\n",
       "      <td>19.0</td>\n",
       "      <td>132.0</td>\n",
       "    </tr>\n",
       "    <tr>\n",
       "      <th>298</th>\n",
       "      <td>Dijon and Tarragon Grilled Chicken</td>\n",
       "      <td>4.375</td>\n",
       "      <td>1134.0</td>\n",
       "      <td>82.0</td>\n",
       "      <td>84.0</td>\n",
       "      <td>514.0</td>\n",
       "    </tr>\n",
       "    <tr>\n",
       "      <th>299</th>\n",
       "      <td>Saffron Vichyssoise</td>\n",
       "      <td>3.750</td>\n",
       "      <td>223.0</td>\n",
       "      <td>6.0</td>\n",
       "      <td>10.0</td>\n",
       "      <td>219.0</td>\n",
       "    </tr>\n",
       "  </tbody>\n",
       "</table>\n",
       "<p>300 rows × 6 columns</p>\n",
       "</div>"
      ],
      "text/plain": [
       "                                            title  rating  calories  protein  \\\n",
       "0          Mushroom and Brown Rice Veggie Burger    4.375     859.0     35.0   \n",
       "1    Beer-Marinated Steaks with Peppercorn Sauce    4.375    1016.0     70.0   \n",
       "2              Beef Pinwheels with Arugula Salad    4.375     546.0     53.0   \n",
       "3                     Poppy Seed Chocolate Torte    2.500     231.0      5.0   \n",
       "4    Melon with Green-Peppercorn Raspberry Sauce    2.500     265.0      4.0   \n",
       "..                                            ...     ...       ...      ...   \n",
       "295                         Caramelized Potatoes    3.750     137.0      2.0   \n",
       "296                                     Haroseth    5.000     273.0      4.0   \n",
       "297    Caribbean-Style Black Bean and Rice Salad    3.750     323.0      7.0   \n",
       "298           Dijon and Tarragon Grilled Chicken    4.375    1134.0     82.0   \n",
       "299                          Saffron Vichyssoise    3.750     223.0      6.0   \n",
       "\n",
       "      fat  sodium  \n",
       "0    30.0  1018.0  \n",
       "1    67.0   678.0  \n",
       "2    35.0  1127.0  \n",
       "3    14.0    40.0  \n",
       "4     4.0    91.0  \n",
       "..    ...     ...  \n",
       "295   3.0   492.0  \n",
       "296  13.0     4.0  \n",
       "297  19.0   132.0  \n",
       "298  84.0   514.0  \n",
       "299  10.0   219.0  \n",
       "\n",
       "[300 rows x 6 columns]"
      ]
     },
     "execution_count": 6,
     "metadata": {},
     "output_type": "execute_result"
    }
   ],
   "source": [
    "recipes = bpd.read_csv('epicurious.csv')\n",
    "recipes"
   ]
  },
  {
   "cell_type": "markdown",
   "metadata": {},
   "source": [
    "We are interested in determining how the amount of `'fat'` varies with the number of `'calories'`. This means we'll use `'calories'`as our $x$ variable and `'fat'` as our $y$. We'll extract these as arrays."
   ]
  },
  {
   "cell_type": "code",
   "execution_count": 7,
   "metadata": {},
   "outputs": [],
   "source": [
    "x_data = recipes.get('calories').values\n",
    "y_data = recipes.get('fat').values"
   ]
  },
  {
   "cell_type": "markdown",
   "metadata": {},
   "source": [
    "We've set the learning rate and initial predictions for you, as well as the number of iterations we want to do. Run the next cell to start your gradient descent algorithm. "
   ]
  },
  {
   "cell_type": "code",
   "execution_count": 8,
   "metadata": {
    "scrolled": false
   },
   "outputs": [
    {
     "name": "stdout",
     "output_type": "stream",
     "text": [
      "Performing linear regression with gradient descent...\n",
      "After  1000  iterations, m = 0.05942135354003322 and b =  -0.0006066747975734924\n",
      "After  2000  iterations, m = 0.059422044331360925 and b =  -0.0012745471855237962\n",
      "After  3000  iterations, m = 0.05942273485162615 and b =  -0.001942157504252416\n",
      "After  4000  iterations, m = 0.059423425100935255 and b =  -0.0026095058565937844\n",
      "After  5000  iterations, m = 0.059424115079394574 and b =  -0.0032765923453419873\n",
      "After  6000  iterations, m = 0.059424804787110375 and b =  -0.003943417073250763\n",
      "After  7000  iterations, m = 0.05942549422418889 and b =  -0.0046099801430335395\n",
      "After  8000  iterations, m = 0.05942618339073633 and b =  -0.005276281657363432\n",
      "After  9000  iterations, m = 0.059426872286858855 and b =  -0.005942321718873261\n",
      "After  10000  iterations, m = 0.05942756091266255 and b =  -0.006608100430155601\n",
      "Gradient descent completed.\n",
      "The slope is m = 0.05942756091266255\n",
      "The y-intercept is b = -0.006608100430155601\n"
     ]
    }
   ],
   "source": [
    "learning_rate = 0.0000004\n",
    "m_initial, b_initial = 0, 0\n",
    "max_iterations = 10000\n",
    "\n",
    "print(\"Performing linear regression with gradient descent...\")\n",
    "m, b = gradient_descent(x_data, y_data, m_initial, b_initial, learning_rate, max_iterations)\n",
    "print(\"Gradient descent completed.\")\n",
    "print(\"The slope is m =\", m)\n",
    "print(\"The y-intercept is b =\", b)"
   ]
  },
  {
   "cell_type": "markdown",
   "metadata": {},
   "source": [
    "Let's see how the regression line found by gradient descent looks. Run the next cell to see a plot of the data and the line found by gradient descent. Check that it looks reasonable."
   ]
  },
  {
   "cell_type": "code",
   "execution_count": 10,
   "metadata": {
    "scrolled": true
   },
   "outputs": [
    {
     "data": {
      "image/png": "[encoded data removed]",
      "text/plain": [
       "<Figure size 432x288 with 1 Axes>"
      ]
     },
     "metadata": {
      "needs_background": "light"
     },
     "output_type": "display_data"
    }
   ],
   "source": [
    "recipes.plot(kind='scatter', x='calories', y='fat').plot(x_data, m * x_data + b);"
   ]
  },
  {
   "cell_type": "markdown",
   "metadata": {},
   "source": [
    "**To submit**: Scroll up to the cell whose output starts with `Performing linear regression with gradient descent...`. Take a screenshot of that output and a screenshot of the plot above. Submit both of these along with the rest of Homework 2, in the same document as the rest of your work. We will not be collecting or grading your code for this homework assignment."
   ]
  },
  {
   "cell_type": "code",
   "execution_count": null,
   "metadata": {},
   "outputs": [],
   "source": []
  }
 ],
 "metadata": {
  "kernelspec": {
   "display_name": "Python 3 (ipykernel)",
   "language": "python",
   "name": "python3"
  },
  "language_info": {
   "codemirror_mode": {
    "name": "ipython",
    "version": 3
   },
   "file_extension": ".py",
   "mimetype": "text/x-python",
   "name": "python",
   "nbconvert_exporter": "python",
   "pygments_lexer": "ipython3",
   "version": "3.9.7"
  }
 },
 "nbformat": 4,
 "nbformat_minor": 4
}
