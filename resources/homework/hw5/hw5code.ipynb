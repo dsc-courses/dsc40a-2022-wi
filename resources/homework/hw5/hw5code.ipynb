{
 "cells": [
  {
   "cell_type": "markdown",
   "id": "f3eca7ab",
   "metadata": {},
   "source": [
    "<h1><center>HW5 Problem 1 b,c</center></h1>"
   ]
  },
  {
   "cell_type": "markdown",
   "id": "927c00b7",
   "metadata": {},
   "source": [
    "This notebook will guide you through parts of HW5 problem 1. Start out by doing the small example by hand in part (a).\n",
    "\n",
    "We have two imports for this problem. Please do not import any other packages."
   ]
  },
  {
   "cell_type": "code",
   "execution_count": null,
   "id": "956ffeba",
   "metadata": {},
   "outputs": [],
   "source": [
    "import numpy as np\n",
    "import pandas as pd"
   ]
  },
  {
   "cell_type": "markdown",
   "id": "bcb2777c",
   "metadata": {},
   "source": [
    "<h3>Part B</h3>\n",
    "\n",
    "Implement a Python function called `cost` that takes in a cluster and a centroid, and returns the cost of the cluster associated with that centroid. Assume that each point is given as a list of coordinates, and each cluster is given as a list of points. The five data points you worked with in part (a) are given in this format below.\n",
    "\n",
    "**Hint:** Recall that $cost(\\mu_j)$ is the total squared distance of each point $\\overrightarrow{x_i}$ in cluster $C_j$ to the centroid $\\mu_j$. Start by defining the helper function `squared_distance`."
   ]
  },
  {
   "cell_type": "code",
   "execution_count": null,
   "id": "642d85e5",
   "metadata": {},
   "outputs": [],
   "source": [
    "def squared_distance(x, u):\n",
    "    \"\"\"Calculate the square of the Euclidian distance between a data point x and its centroid u.\"\"\"\n",
    "    return ...\n",
    "\n",
    "def cost(C, u):\n",
    "    \"\"\"Calculate the cost of cluster C with centroid u.\"\"\"\n",
    "    return ..."
   ]
  },
  {
   "cell_type": "code",
   "execution_count": null,
   "id": "541e3e97",
   "metadata": {},
   "outputs": [],
   "source": [
    "x1=[4,21]\n",
    "x2=[15,66]\n",
    "x3=[6,25]\n",
    "x4=[19,64]\n",
    "x5=[5,32]\n",
    "\n",
    "C1= [x1, x3, x5]\n",
    "C2= [x2, x4]"
   ]
  },
  {
   "cell_type": "markdown",
   "id": "075d9e05",
   "metadata": {},
   "source": [
    "Now, calculate the total cost before the first iteration and after the first iteration of the algorithm, with these five data points. Recall that the total cost $cost(\\mu_1, \\dots, \\mu_k)$ is defined as $$cost(\\mu_1, \\dots, \\mu_k) = cost(\\mu_1)+\\dots+ cost(\\mu_k).$$\n",
    "You should find that the cost has decreased after the first iteration."
   ]
  },
  {
   "cell_type": "code",
   "execution_count": null,
   "id": "8f89220f",
   "metadata": {},
   "outputs": [],
   "source": [
    "before_cost = ...\n",
    "after_cost = ...\n",
    "\n",
    "print(\"The total cost before the first iteration is\", before_cost)\n",
    "print(\"The total cost after the first iteration is\", after_cost)"
   ]
  },
  {
   "cell_type": "markdown",
   "id": "70e8d96d",
   "metadata": {},
   "source": [
    "<h3>Part C</h3>\n",
    "\n",
    "Using the data points in `k_means_data.csv`, follow the prompts below to implement the k-means clustering algorithm with $k=3$ clusters.\n",
    "\n",
    "We'll start by reading in the data."
   ]
  },
  {
   "cell_type": "code",
   "execution_count": null,
   "id": "865c2862",
   "metadata": {
    "scrolled": false
   },
   "outputs": [],
   "source": [
    "table = pd.read_csv(\"k_means_data.csv\") #Import the data\n",
    "data = table.values.tolist() #Put the data in a form that is easier to use\n",
    "data"
   ]
  },
  {
   "cell_type": "markdown",
   "id": "39977110",
   "metadata": {},
   "source": [
    "First, write a function to initialize the centroids by choosing $k$ random data points. We'll use `initialize_centroids` with $k=3$ since we want to find three clusters."
   ]
  },
  {
   "cell_type": "code",
   "execution_count": null,
   "id": "8d32b0fc",
   "metadata": {},
   "outputs": [],
   "source": [
    "def initialize_centroids(data, k):\n",
    "    \"\"\"Return a list of k randomly selected centroids from among the data points.\"\"\"\n",
    "    return ..."
   ]
  },
  {
   "cell_type": "code",
   "execution_count": null,
   "id": "d57135e7",
   "metadata": {
    "scrolled": true
   },
   "outputs": [],
   "source": [
    "centroids = initialize_centroids(data, 3)\n",
    "centroids"
   ]
  },
  {
   "cell_type": "markdown",
   "id": "ba44a635",
   "metadata": {},
   "source": [
    "Next, implement a function that determines the closest centroid for a given data point. The function `find_closest_centroid` should take as input a single data point as well as a list of centroids. It should return the centroid that's closest to the given data point.\n",
    "\n",
    "**Hint:** You can use the `squared_distance` function you've implemented above."
   ]
  },
  {
   "cell_type": "code",
   "execution_count": null,
   "id": "42406f07",
   "metadata": {},
   "outputs": [],
   "source": [
    "def find_closest_centroid(point, centroids):\n",
    "    \"\"\"Determine the closest centroid to a given data point.\"\"\"\n",
    "    return ..."
   ]
  },
  {
   "cell_type": "markdown",
   "id": "62ee92eb",
   "metadata": {},
   "source": [
    "The function below puts each data point into a group (cluster), based on which of the centroids it is closest to. The groups are labeled 1 through $k$, where group 1 contains the points that are closest to the first centroid in the `centroids` list."
   ]
  },
  {
   "cell_type": "code",
   "execution_count": null,
   "id": "b1a0bd60",
   "metadata": {},
   "outputs": [],
   "source": [
    "def define_groups(data, centroids):   \n",
    "    \"\"\"Associates each point in data with its nearest centroid.\"\"\"\n",
    "    groups = []\n",
    "    for point in data:\n",
    "        closest = find_closest_centroid(point, centroids)       \n",
    "        groups.append(centroids.index(closest)+1)\n",
    "    return groups"
   ]
  },
  {
   "cell_type": "code",
   "execution_count": null,
   "id": "7eb30fdc",
   "metadata": {},
   "outputs": [],
   "source": [
    "group_list = define_groups(data, centroids)\n",
    "group_list"
   ]
  },
  {
   "cell_type": "markdown",
   "id": "f7faedb5",
   "metadata": {},
   "source": [
    "Now, we need to relocate the centroids to the average of all points in that group. The function to do that is provided below. You should read through it and make sure you understand how it works."
   ]
  },
  {
   "cell_type": "code",
   "execution_count": null,
   "id": "2e1008db",
   "metadata": {},
   "outputs": [],
   "source": [
    "def update_centroids(data, k, group_list):\n",
    "    \"\"\"From the input data, k, and a list of groups, returns a list of new updated centroids.\"\"\"\n",
    "    new_centroids=[]\n",
    "    for i in np.arange(k)+1:               #for each cluster\n",
    "        total = np.array([0.0,0.0])\n",
    "        count = 0\n",
    "        for j in range(len(data)):          #go through each data point\n",
    "            if group_list[j]==i:                   #if the data point is in this cluster\n",
    "                total+=np.array(data[j])                          #add the data point to this cluster's total\n",
    "                count+=1                                          #and increment the count of points in this cluster\n",
    "        new_centroid = total/count\n",
    "        new_centroids.append(list(new_centroid))\n",
    "    return new_centroids"
   ]
  },
  {
   "cell_type": "code",
   "execution_count": null,
   "id": "836c9e90",
   "metadata": {},
   "outputs": [],
   "source": [
    "new_centroids = update_centroids(data, 3, group_list)\n",
    "new_centroids"
   ]
  },
  {
   "cell_type": "markdown",
   "id": "d16c5c82",
   "metadata": {},
   "source": [
    "Finally, put together the functions above to run the k-means algorithm to find the centroids that yield the least cost. To make it a little easier, just update the centroids a fixed number of times, $1000$ times. You can think about how you would implement a better stopping condition.\n",
    "\n",
    "Complete the `k_means` function below. The inputs are the data, the value of $k$, and the initial centroids. The function should return a list of the centroids after $1000$ updates.\n",
    "\n",
    "**Hint**: This should only take a few lines of code, making use of the functions already defined."
   ]
  },
  {
   "cell_type": "code",
   "execution_count": null,
   "id": "9134b688",
   "metadata": {},
   "outputs": [],
   "source": [
    "def k_means(data, k, initial_centroids):\n",
    "    \"\"\"Implement the k-means algorithm given data points, number of clusters, and initial centroids as input.\n",
    "    Return a list of centroids with least cost, after 1000 iterations.\"\"\"\n",
    "    return ..."
   ]
  },
  {
   "cell_type": "code",
   "execution_count": null,
   "id": "1f31fbcb",
   "metadata": {
    "scrolled": true
   },
   "outputs": [],
   "source": [
    "k_means(data, 3, initialize_centroids(data, 3))"
   ]
  },
  {
   "cell_type": "markdown",
   "id": "c0a61d53",
   "metadata": {},
   "source": [
    "<h3> To Submit </h3>\n",
    "\n",
    "In the top left corner, in the File menu, select Download as Python (.py). \n",
    "\n",
    "You must save your file as `hw5code.py` for the Gradescope autograder to run. Then, upload this file to the assignment called Homework 5 Code on Gradescope. "
   ]
  },
  {
   "cell_type": "code",
   "execution_count": null,
   "id": "3c56cd36",
   "metadata": {},
   "outputs": [],
   "source": []
  }
 ],
 "metadata": {
  "kernelspec": {
   "display_name": "Python 3 (ipykernel)",
   "language": "python",
   "name": "python3"
  },
  "language_info": {
   "codemirror_mode": {
    "name": "ipython",
    "version": 3
   },
   "file_extension": ".py",
   "mimetype": "text/x-python",
   "name": "python",
   "nbconvert_exporter": "python",
   "pygments_lexer": "ipython3",
   "version": "3.9.7"
  }
 },
 "nbformat": 4,
 "nbformat_minor": 5
}
