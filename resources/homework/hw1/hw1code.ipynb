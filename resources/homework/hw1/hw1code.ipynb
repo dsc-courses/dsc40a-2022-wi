{
 "cells": [
  {
   "cell_type": "markdown",
   "id": "85a01831",
   "metadata": {},
   "source": [
    "<h1><center>HW1 Problem 5 a, c, d, e</center></h1>"
   ]
  },
  {
   "cell_type": "markdown",
   "id": "dcbcfd0b",
   "metadata": {},
   "source": [
    "To start, we'll import `numpy`. You can use the function `np.median` to check your work. Please do not import any other packages or use any other functionality in `numpy`."
   ]
  },
  {
   "cell_type": "code",
   "execution_count": null,
   "id": "3eb5611b",
   "metadata": {},
   "outputs": [],
   "source": [
    "import numpy as np"
   ]
  },
  {
   "cell_type": "markdown",
   "id": "6bb7e862",
   "metadata": {},
   "source": [
    "a) Complete the function below according to the homework instructions."
   ]
  },
  {
   "cell_type": "code",
   "execution_count": null,
   "id": "e26e4d81",
   "metadata": {},
   "outputs": [],
   "source": [
    "def avo_mean(prev_mean, n, weight):\n",
    "    ..."
   ]
  },
  {
   "cell_type": "markdown",
   "id": "0911a3d1",
   "metadata": {},
   "source": [
    "c) Input your two lists of avocado weights as `list1c` and `list2c` below. "
   ]
  },
  {
   "cell_type": "code",
   "execution_count": 1,
   "id": "2b8cfdfe",
   "metadata": {},
   "outputs": [],
   "source": [
    "list1c = ...\n",
    "list2c = ..."
   ]
  },
  {
   "cell_type": "markdown",
   "id": "13e9ccbd",
   "metadata": {},
   "source": [
    "d) Input your two lists of avocado weights as `list1d` and `list2d` below. "
   ]
  },
  {
   "cell_type": "code",
   "execution_count": null,
   "id": "78e9085c",
   "metadata": {},
   "outputs": [],
   "source": [
    "list1d = ...\n",
    "list2d = ..."
   ]
  },
  {
   "cell_type": "markdown",
   "id": "76775dfd",
   "metadata": {},
   "source": [
    "e) Complete the function below according to the homework instructions."
   ]
  },
  {
   "cell_type": "code",
   "execution_count": null,
   "id": "732294dc",
   "metadata": {},
   "outputs": [],
   "source": [
    "def avo_extreme_mean(prev_extreme_mean, prev_max, n, weight):\n",
    "    ..."
   ]
  },
  {
   "attachments": {},
   "cell_type": "markdown",
   "id": "56ffb4c7",
   "metadata": {},
   "source": [
    "**To submit**: In the top left corner, in the File menu, select Download as Python (.py). \n",
    "\n",
    "You must save your file as `hw1code.py` for the Gradescope autograder to run. Then, upload this file to the assignment called Homework 1 Code on Gradescope. \n",
    "\n",
    "Don't forget to submit the rest of Homework 1 separately."
   ]
  },
  {
   "cell_type": "code",
   "execution_count": null,
   "id": "aee952df",
   "metadata": {},
   "outputs": [],
   "source": []
  }
 ],
 "metadata": {
  "kernelspec": {
   "display_name": "Python 3 (ipykernel)",
   "language": "python",
   "name": "python3"
  },
  "language_info": {
   "codemirror_mode": {
    "name": "ipython",
    "version": 3
   },
   "file_extension": ".py",
   "mimetype": "text/x-python",
   "name": "python",
   "nbconvert_exporter": "python",
   "pygments_lexer": "ipython3",
   "version": "3.9.7"
  }
 },
 "nbformat": 4,
 "nbformat_minor": 5
}
