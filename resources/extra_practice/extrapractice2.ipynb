{
 "cells": [
  {
   "cell_type": "markdown",
   "id": "55cfe2b2",
   "metadata": {},
   "source": [
    "<h1><center>Extra Practice Session 2, Problem 4</center></h1>\n",
    "\n",
    "Write a Python function that takes as input an array of names and returns the longest name in the array, where longest means having the most individual characters. If multiple names are tied for the longest, you can select any one of them."
   ]
  },
  {
   "cell_type": "code",
   "execution_count": null,
   "id": "65d5259c",
   "metadata": {},
   "outputs": [],
   "source": [
    "import numpy as np"
   ]
  },
  {
   "cell_type": "code",
   "execution_count": null,
   "id": "3a1db977",
   "metadata": {},
   "outputs": [],
   "source": [
    "def longest_name(names):\n",
    "    \"\"\"Returns the longest name in the input array of names.\"\"\"\n",
    "    return ..."
   ]
  },
  {
   "cell_type": "code",
   "execution_count": null,
   "id": "e0ee643e",
   "metadata": {},
   "outputs": [],
   "source": [
    "# Everyone who is teaching a DSC course this quarter. Names are as they appear in the UCSD schedule of classes.\n",
    "professors = np.array([\"Suraj Rampure\", \"Marina Langlois\", \"Soohyun Nam Liao\", \"Janine LoBue Tiefenbruck\", \n",
    "                       \"Justin Matthew Eldridge\", \"Giorgio Quer\", \"Amarnath Gupta\", \"Arun Kumar Kumar\", \n",
    "                       \"Mikhail Belkin\", \"Jelena Bradic\", \"Iona Dumitriu\", \"Ilya Zaslavsky\", \n",
    "                       \"Aaron Mcmillan Fraenkel\", \"Jingbo Shang\", \"Benjamin Smarr\"])\n",
    "\n",
    "longest_name(professors)"
   ]
  },
  {
   "cell_type": "code",
   "execution_count": null,
   "id": "602a1466",
   "metadata": {},
   "outputs": [],
   "source": []
  },
  {
   "cell_type": "code",
   "execution_count": null,
   "id": "6770f6e9",
   "metadata": {},
   "outputs": [],
   "source": []
  }
 ],
 "metadata": {
  "kernelspec": {
   "display_name": "Python 3 (ipykernel)",
   "language": "python",
   "name": "python3"
  },
  "language_info": {
   "codemirror_mode": {
    "name": "ipython",
    "version": 3
   },
   "file_extension": ".py",
   "mimetype": "text/x-python",
   "name": "python",
   "nbconvert_exporter": "python",
   "pygments_lexer": "ipython3",
   "version": "3.9.7"
  }
 },
 "nbformat": 4,
 "nbformat_minor": 5
}
