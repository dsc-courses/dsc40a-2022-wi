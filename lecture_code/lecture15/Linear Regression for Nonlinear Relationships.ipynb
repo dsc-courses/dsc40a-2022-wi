{
 "cells": [
  {
   "cell_type": "markdown",
   "metadata": {},
   "source": [
    "# Linear Regression for Nonlinear Relationships"
   ]
  },
  {
   "cell_type": "code",
   "execution_count": null,
   "metadata": {},
   "outputs": [],
   "source": [
    "import matplotlib.pyplot as plt\n",
    "import pandas as pd\n",
    "import numpy as np\n",
    "from io import StringIO"
   ]
  },
  {
   "cell_type": "markdown",
   "metadata": {},
   "source": [
    "The relationship between $x$ and $y$ in this data is nonlinear:"
   ]
  },
  {
   "cell_type": "code",
   "execution_count": null,
   "metadata": {},
   "outputs": [],
   "source": [
    "np.random.seed(42)\n",
    "x = np.linspace(0, 20, 100)\n",
    "y = .5 * np.sin(.5*x) + np.random.normal(0, .2, 100)\n",
    "\n",
    "plt.scatter(x, y)\n",
    "plt.xticks([])\n",
    "plt.yticks([]);"
   ]
  },
  {
   "cell_type": "markdown",
   "metadata": {},
   "source": [
    "We have 100 data points $x_i.$"
   ]
  },
  {
   "cell_type": "code",
   "execution_count": null,
   "metadata": {},
   "outputs": [],
   "source": [
    "len(x)"
   ]
  },
  {
   "cell_type": "markdown",
   "metadata": {},
   "source": [
    "Let's try to fit a degree four polynomial of the form:\n",
    "$$H(x) = w_0 + w_1 x + w_2 x^2 + w_3 x^3 + w_4 x^4.$$\n",
    "The design matrix and parameter vector are\n",
    "$$\n",
    "X = \\begin{bmatrix}\n",
    "    1 & x_1 & x_1^2 & x_1^3 & x_1^4\\\\\n",
    "    1 & x_2 & x_2^2 & x_2^3 & x_2^4\\\\\n",
    "    \\vdots & \\vdots & \\vdots & \\vdots & \\vdots\\\\\n",
    "    1 & x_{100} & x_{100}^2 & x_{100}^3 & x_{100}^4\\\\\n",
    "\\end{bmatrix},\n",
    "\\qquad \n",
    "\\vec w = \\begin{bmatrix}\n",
    "    w_0\\\\\n",
    "    w_1\\\\\n",
    "    w_2 \\\\\n",
    "    w_3\\\\\n",
    "    w_4\n",
    "\\end{bmatrix}.$$\n",
    "\n",
    "In code:"
   ]
  },
  {
   "cell_type": "code",
   "execution_count": null,
   "metadata": {},
   "outputs": [],
   "source": [
    "X = np.column_stack((\n",
    "    np.ones_like(x),\n",
    "    x,\n",
    "    x**2,\n",
    "    x**3,\n",
    "    x**4\n",
    "))"
   ]
  },
  {
   "cell_type": "markdown",
   "metadata": {},
   "source": [
    "Now we solve the normal equations, $X^\\intercal X \\vec w = X^\\intercal \\vec y$. We can do this using `np.linalg.solve`:"
   ]
  },
  {
   "cell_type": "code",
   "execution_count": null,
   "metadata": {},
   "outputs": [],
   "source": [
    "w = np.linalg.solve(X.T @ X, X.T @ y)\n",
    "w"
   ]
  },
  {
   "cell_type": "markdown",
   "metadata": {},
   "source": [
    "This says the parameter vector is\n",
    "$$\\vec w = \\begin{bmatrix}\n",
    "    w_0\\\\\n",
    "    w_1\\\\\n",
    "    w_2 \\\\\n",
    "    w_3\\\\\n",
    "    w_4\n",
    "\\end{bmatrix} = \\begin{bmatrix}\n",
    "    0.041\\\\\n",
    "    0.428\\\\\n",
    "    -0.135 \\\\\n",
    "    -.012\\\\\n",
    "    -0.0003\n",
    "\\end{bmatrix},$$\n",
    "so the best-fitting quartic is\n",
    "$$H(x) =     0.041+\n",
    "    0.428x\n",
    "    -0.135x^2\n",
    "    -.012x^3\n",
    "    -0.0003x^4$$\n"
   ]
  },
  {
   "cell_type": "markdown",
   "metadata": {},
   "source": [
    "Here we calculate the predicted value $H(x_i)$ for every point $x_i$ in our data set:"
   ]
  },
  {
   "cell_type": "code",
   "execution_count": null,
   "metadata": {},
   "outputs": [],
   "source": [
    "y_pred = w[0] + w[1]*x + w[2]*x**2 + w[3]*x**3 + w[4]*x**4\n",
    "y_pred"
   ]
  },
  {
   "cell_type": "markdown",
   "metadata": {},
   "source": [
    "But remember, the prediction vector $\\vec h$ is also given by $$\\vec h = X \\vec w.$$"
   ]
  },
  {
   "cell_type": "code",
   "execution_count": null,
   "metadata": {},
   "outputs": [],
   "source": [
    "X @ w"
   ]
  },
  {
   "cell_type": "markdown",
   "metadata": {},
   "source": [
    "Let's plot our fitted quartic:"
   ]
  },
  {
   "cell_type": "code",
   "execution_count": null,
   "metadata": {},
   "outputs": [],
   "source": [
    "plt.scatter(x, y)\n",
    "plt.plot(x, X @ w, color='red')"
   ]
  },
  {
   "cell_type": "markdown",
   "metadata": {},
   "source": [
    "Recall that we found\n",
    "$$\\vec w = \\begin{bmatrix}\n",
    "    w_0\\\\\n",
    "    w_1\\\\\n",
    "    w_2 \\\\\n",
    "    w_3\\\\\n",
    "    w_4\n",
    "\\end{bmatrix} = \\begin{bmatrix}\n",
    "    0.041\\\\\n",
    "    0.428\\\\\n",
    "    -0.135 \\\\\n",
    "    -.012\\\\\n",
    "    -0.0003\n",
    "\\end{bmatrix}.$$\n"
   ]
  },
  {
   "cell_type": "markdown",
   "metadata": {},
   "source": [
    "It turns out that numpy has a function to find the least squares regression parameters for fitting a polynomial:"
   ]
  },
  {
   "cell_type": "code",
   "execution_count": null,
   "metadata": {},
   "outputs": [],
   "source": [
    "np.polyfit(x, y, deg=4)"
   ]
  },
  {
   "cell_type": "markdown",
   "metadata": {},
   "source": [
    "Notice that these are the same parameters we recovered, just in reverse order."
   ]
  },
  {
   "cell_type": "markdown",
   "metadata": {},
   "source": [
    "## Fitting higher order polynomials"
   ]
  },
  {
   "cell_type": "markdown",
   "metadata": {},
   "source": [
    "If we are trying to fit a more complicated pattern, we might try using a higher-degree polynomial, with more \"turns\". But the system of equations obtained when trying to fit a high-degree polynomial is often \"ill conditioned\", meaning that the small numerical errors resulting from the finite precision of computer math may lead to big inaccuracies in the final result.\n",
    "\n",
    "For example, consider the following data:"
   ]
  },
  {
   "cell_type": "code",
   "execution_count": 18,
   "metadata": {},
   "outputs": [
    {
     "data": {
      "text/plain": [
       "<matplotlib.collections.PathCollection at 0x241ed67ff60>"
      ]
     },
     "execution_count": 18,
     "metadata": {},
     "output_type": "execute_result"
    },
    {
     "data": {
      "image/png": "[encoded data removed]",
      "text/plain": [
       "<Figure size 432x288 with 1 Axes>"
      ]
     },
     "metadata": {
      "needs_background": "light"
     },
     "output_type": "display_data"
    }
   ],
   "source": [
    "x = np.arange(20)\n",
    "y = x % 2\n",
    "\n",
    "plt.scatter(x, y)"
   ]
  },
  {
   "cell_type": "markdown",
   "metadata": {},
   "source": [
    "In general, any $n$ points in two dimensions can be fit *exactly* by a polynomial of degree $n+1$. For instance, any two points is fit exactly by some line, any three points can be fit by some quadratic, any four points can be fit by some cubic, and so on. So in principle, there is a polynomial of degree $21$ which fits the above data exactly. But look what happens when we try to fit a polynomial with least squares regression:"
   ]
  },
  {
   "cell_type": "code",
   "execution_count": 19,
   "metadata": {},
   "outputs": [
    {
     "name": "stderr",
     "output_type": "stream",
     "text": [
      "C:\\Users\\janin\\Anaconda3\\lib\\site-packages\\ipykernel_launcher.py:1: RankWarning: Polyfit may be poorly conditioned\n",
      "  \"\"\"Entry point for launching an IPython kernel.\n"
     ]
    },
    {
     "data": {
      "text/plain": [
       "array([ 3.06950961e-18, -1.78544593e-16, -2.64352238e-15,  4.26148662e-13,\n",
       "       -9.70741919e-12, -6.09395707e-11,  4.97865628e-09, -1.66306761e-08,\n",
       "       -1.99676825e-06,  2.92444442e-05,  4.27046422e-04, -2.05685523e-02,\n",
       "        3.52529815e-01, -3.67387035e+00,  2.58494575e+01, -1.26399830e+02,\n",
       "        4.28023606e+02, -9.75388164e+02,  1.40798283e+03, -1.14099628e+03,\n",
       "        3.85269470e+02,  2.14314300e-05])"
      ]
     },
     "execution_count": 19,
     "metadata": {},
     "output_type": "execute_result"
    }
   ],
   "source": [
    "w = np.polyfit(x, x%2, deg=21)\n",
    "w"
   ]
  },
  {
   "cell_type": "markdown",
   "metadata": {},
   "source": [
    "You'll get an answer, but you probably got an ugly red message saying \"Polyfit may be poorly conditioned\". \n",
    "\n",
    "\n",
    "Moreover, the plot of the predictions is not so good. This means that while, in theory, we should be able to find a degree 21 polynomial to fit this data, in practice, it can be hard to compute a high-degree polynomial to fit our data. This is the best that Python can do:"
   ]
  },
  {
   "cell_type": "code",
   "execution_count": 20,
   "metadata": {},
   "outputs": [
    {
     "name": "stderr",
     "output_type": "stream",
     "text": [
      "C:\\Users\\janin\\Anaconda3\\lib\\site-packages\\ipykernel_launcher.py:2: FutureWarning: arrays to stack must be passed as a \"sequence\" type such as list or tuple. Support for non-sequence iterables such as generators is deprecated as of NumPy 1.16 and will raise an error in the future.\n",
      "  \n"
     ]
    },
    {
     "data": {
      "text/plain": [
       "(-2, 2)"
      ]
     },
     "execution_count": 20,
     "metadata": {},
     "output_type": "execute_result"
    },
    {
     "data": {
      "image/png": "[encoded data removed]",
      "text/plain": [
       "<Figure size 432x288 with 1 Axes>"
      ]
     },
     "metadata": {
      "needs_background": "light"
     },
     "output_type": "display_data"
    }
   ],
   "source": [
    "xx = np.linspace(0, 20, 100)\n",
    "predictions = np.column_stack(xx**p for p in range(22)) @ w[::-1]\n",
    "\n",
    "plt.plot(xx, predictions)\n",
    "plt.scatter(x, x%2)\n",
    "plt.ylim([-2,2])"
   ]
  },
  {
   "cell_type": "markdown",
   "metadata": {},
   "source": [
    "So while high-order polynomials can, in theory, describe complicated patterns, in practice they are generally unsuitable for regression due to numerical issues.\n",
    "\n",
    "We should also be careful of overfitting. Most data generating processes are not as \"wiggly\" as a high-degree polynomial. It's generally better to fit lower-degree polynomials that describe most of the variation in the data."
   ]
  },
  {
   "cell_type": "code",
   "execution_count": null,
   "metadata": {},
   "outputs": [],
   "source": []
  }
 ],
 "metadata": {
  "kernelspec": {
   "display_name": "Python 3",
   "language": "python",
   "name": "python3"
  },
  "language_info": {
   "codemirror_mode": {
    "name": "ipython",
    "version": 3
   },
   "file_extension": ".py",
   "mimetype": "text/x-python",
   "name": "python",
   "nbconvert_exporter": "python",
   "pygments_lexer": "ipython3",
   "version": "3.6.8"
  }
 },
 "nbformat": 4,
 "nbformat_minor": 2
}
